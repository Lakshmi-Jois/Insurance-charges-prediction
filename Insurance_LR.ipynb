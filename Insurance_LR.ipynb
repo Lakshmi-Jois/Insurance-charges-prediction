{
 "cells": [
  {
   "cell_type": "code",
   "execution_count": 1,
   "id": "6ac4b87a-c65a-4b6a-9898-b68f959dbd43",
   "metadata": {},
   "outputs": [],
   "source": [
    "import pyforest\n",
    "from sklearn.preprocessing import StandardScaler\n",
    "from sklearn.preprocessing import LabelEncoder,OneHotEncoder\n",
    "from sklearn.linear_model import LinearRegression\n",
    "from sklearn.metrics import r2_score"
   ]
  },
  {
   "cell_type": "code",
   "execution_count": 2,
   "id": "4096c7f5-20f4-4989-8c47-5d8c85f5207e",
   "metadata": {},
   "outputs": [
    {
     "data": {
      "application/javascript": [
       "\n",
       "        if (window._pyforest_update_imports_cell) { window._pyforest_update_imports_cell('import pandas as pd'); }\n",
       "    "
      ],
      "text/plain": [
       "<IPython.core.display.Javascript object>"
      ]
     },
     "metadata": {},
     "output_type": "display_data"
    }
   ],
   "source": [
    "df = pd.read_csv('insurance.csv')"
   ]
  },
  {
   "cell_type": "code",
   "execution_count": 3,
   "id": "186fc457-a443-4bed-ad76-e90fea9e3b34",
   "metadata": {},
   "outputs": [
    {
     "name": "stdout",
     "output_type": "stream",
     "text": [
      "<class 'pandas.core.frame.DataFrame'>\n",
      "RangeIndex: 1338 entries, 0 to 1337\n",
      "Data columns (total 7 columns):\n",
      " #   Column    Non-Null Count  Dtype  \n",
      "---  ------    --------------  -----  \n",
      " 0   age       1338 non-null   int64  \n",
      " 1   sex       1338 non-null   object \n",
      " 2   bmi       1338 non-null   float64\n",
      " 3   children  1338 non-null   int64  \n",
      " 4   smoker    1338 non-null   object \n",
      " 5   region    1338 non-null   object \n",
      " 6   charges   1338 non-null   float64\n",
      "dtypes: float64(2), int64(2), object(3)\n",
      "memory usage: 73.3+ KB\n"
     ]
    }
   ],
   "source": [
    "df.info()"
   ]
  },
  {
   "cell_type": "markdown",
   "id": "c624b205-0cee-47c8-98ba-199b1429a572",
   "metadata": {},
   "source": [
    "# Data Preprocessing"
   ]
  },
  {
   "cell_type": "code",
   "execution_count": 4,
   "id": "df77b176-6af1-4c84-9c64-0ea12eacb2da",
   "metadata": {},
   "outputs": [
    {
     "data": {
      "text/plain": [
       "0"
      ]
     },
     "execution_count": 4,
     "metadata": {},
     "output_type": "execute_result"
    }
   ],
   "source": [
    "df.isna().sum().sum()"
   ]
  },
  {
   "cell_type": "code",
   "execution_count": 5,
   "id": "e58614e6-3e5a-4332-b29a-6dfb1264b9cf",
   "metadata": {},
   "outputs": [
    {
     "data": {
      "text/plain": [
       "1"
      ]
     },
     "execution_count": 5,
     "metadata": {},
     "output_type": "execute_result"
    }
   ],
   "source": [
    "df.duplicated().sum().sum()"
   ]
  },
  {
   "cell_type": "code",
   "execution_count": 6,
   "id": "ffbaf230-ffa7-4638-90eb-18b1a6fd95ca",
   "metadata": {},
   "outputs": [],
   "source": [
    "df.drop_duplicates(inplace=True)"
   ]
  },
  {
   "cell_type": "code",
   "execution_count": 7,
   "id": "16cb63dc-fda1-4447-a786-d4e5cfc0e238",
   "metadata": {},
   "outputs": [
    {
     "data": {
      "text/plain": [
       "0"
      ]
     },
     "execution_count": 7,
     "metadata": {},
     "output_type": "execute_result"
    }
   ],
   "source": [
    "df.duplicated().sum().sum()"
   ]
  },
  {
   "cell_type": "markdown",
   "id": "fae7adaa-2600-425a-821c-2854b42e0162",
   "metadata": {},
   "source": [
    "# Split Numeric and String Data"
   ]
  },
  {
   "cell_type": "code",
   "execution_count": 8,
   "id": "a9b0a68b-709a-4eac-a838-e4d168c6c3bf",
   "metadata": {},
   "outputs": [],
   "source": [
    "y=df[\"charges\"]\n",
    "features=df.drop([\"charges\"],axis=1)\n",
    "num_data=features.select_dtypes(\"number\")\n",
    "str_data=df.select_dtypes(\"object\")"
   ]
  },
  {
   "cell_type": "markdown",
   "id": "1608b3ed-d60b-4058-9815-802c87b63bc4",
   "metadata": {},
   "source": [
    "# check the distribution:"
   ]
  },
  {
   "cell_type": "code",
   "execution_count": 9,
   "id": "b12eced7-161c-4a32-ad32-b5a9fa2b12cc",
   "metadata": {},
   "outputs": [
    {
     "data": {
      "application/javascript": [
       "\n",
       "        if (window._pyforest_update_imports_cell) { window._pyforest_update_imports_cell('import pandas as pd\\nimport seaborn as sns'); }\n",
       "    "
      ],
      "text/plain": [
       "<IPython.core.display.Javascript object>"
      ]
     },
     "metadata": {},
     "output_type": "display_data"
    },
    {
     "data": {
      "text/plain": [
       "<Axes: xlabel='charges', ylabel='Count'>"
      ]
     },
     "execution_count": 9,
     "metadata": {},
     "output_type": "execute_result"
    },
    {
     "data": {
      "image/png": "[encoded data removed]",
      "text/plain": [
       "<Figure size 640x480 with 1 Axes>"
      ]
     },
     "metadata": {},
     "output_type": "display_data"
    }
   ],
   "source": [
    "sns.histplot(y,kde=True)"
   ]
  },
  {
   "cell_type": "code",
   "execution_count": 10,
   "id": "47d62aa2-f874-4895-9e13-2aadd0c937c1",
   "metadata": {},
   "outputs": [
    {
     "data": {
      "application/javascript": [
       "\n",
       "        if (window._pyforest_update_imports_cell) { window._pyforest_update_imports_cell('import pandas as pd\\nimport seaborn as sns'); }\n",
       "    "
      ],
      "text/plain": [
       "<IPython.core.display.Javascript object>"
      ]
     },
     "metadata": {},
     "output_type": "display_data"
    },
    {
     "data": {
      "application/javascript": [
       "\n",
       "        if (window._pyforest_update_imports_cell) { window._pyforest_update_imports_cell('import matplotlib.pyplot as plt\\nimport pandas as pd\\nimport seaborn as sns'); }\n",
       "    "
      ],
      "text/plain": [
       "<IPython.core.display.Javascript object>"
      ]
     },
     "metadata": {},
     "output_type": "display_data"
    },
    {
     "data": {
      "image/png": "[encoded data removed]",
      "text/plain": [
       "<Figure size 640x480 with 1 Axes>"
      ]
     },
     "metadata": {},
     "output_type": "display_data"
    },
    {
     "data": {
      "application/javascript": [
       "\n",
       "        if (window._pyforest_update_imports_cell) { window._pyforest_update_imports_cell('import matplotlib.pyplot as plt\\nimport pandas as pd\\nimport seaborn as sns'); }\n",
       "    "
      ],
      "text/plain": [
       "<IPython.core.display.Javascript object>"
      ]
     },
     "metadata": {},
     "output_type": "display_data"
    },
    {
     "data": {
      "application/javascript": [
       "\n",
       "        if (window._pyforest_update_imports_cell) { window._pyforest_update_imports_cell('import matplotlib.pyplot as plt\\nimport pandas as pd\\nimport seaborn as sns'); }\n",
       "    "
      ],
      "text/plain": [
       "<IPython.core.display.Javascript object>"
      ]
     },
     "metadata": {},
     "output_type": "display_data"
    },
    {
     "data": {
      "image/png": "[encoded data removed]",
      "text/plain": [
       "<Figure size 640x480 with 1 Axes>"
      ]
     },
     "metadata": {},
     "output_type": "display_data"
    },
    {
     "data": {
      "application/javascript": [
       "\n",
       "        if (window._pyforest_update_imports_cell) { window._pyforest_update_imports_cell('import matplotlib.pyplot as plt\\nimport pandas as pd\\nimport seaborn as sns'); }\n",
       "    "
      ],
      "text/plain": [
       "<IPython.core.display.Javascript object>"
      ]
     },
     "metadata": {},
     "output_type": "display_data"
    },
    {
     "data": {
      "application/javascript": [
       "\n",
       "        if (window._pyforest_update_imports_cell) { window._pyforest_update_imports_cell('import matplotlib.pyplot as plt\\nimport pandas as pd\\nimport seaborn as sns'); }\n",
       "    "
      ],
      "text/plain": [
       "<IPython.core.display.Javascript object>"
      ]
     },
     "metadata": {},
     "output_type": "display_data"
    },
    {
     "data": {
      "image/png": "[encoded data removed]",
      "text/plain": [
       "<Figure size 640x480 with 1 Axes>"
      ]
     },
     "metadata": {},
     "output_type": "display_data"
    }
   ],
   "source": [
    "for col in num_data.columns:\n",
    "    sns.histplot(num_data[col],kde=True)\n",
    "    plt.show()"
   ]
  },
  {
   "cell_type": "code",
   "execution_count": 11,
   "id": "4c00e696-2066-48c5-a543-f06f53fde6e9",
   "metadata": {},
   "outputs": [
    {
     "data": {
      "application/javascript": [
       "\n",
       "        if (window._pyforest_update_imports_cell) { window._pyforest_update_imports_cell('import numpy as np\\nimport pandas as pd\\nimport seaborn as sns\\nimport matplotlib.pyplot as plt'); }\n",
       "    "
      ],
      "text/plain": [
       "<IPython.core.display.Javascript object>"
      ]
     },
     "metadata": {},
     "output_type": "display_data"
    }
   ],
   "source": [
    "y_trans=np.log(y)"
   ]
  },
  {
   "cell_type": "code",
   "execution_count": 12,
   "id": "9bac55f5-e55b-4f87-8ed0-12972deaf125",
   "metadata": {},
   "outputs": [
    {
     "data": {
      "application/javascript": [
       "\n",
       "        if (window._pyforest_update_imports_cell) { window._pyforest_update_imports_cell('import numpy as np\\nimport pandas as pd\\nimport seaborn as sns\\nimport matplotlib.pyplot as plt'); }\n",
       "    "
      ],
      "text/plain": [
       "<IPython.core.display.Javascript object>"
      ]
     },
     "metadata": {},
     "output_type": "display_data"
    },
    {
     "data": {
      "text/plain": [
       "<Axes: xlabel='charges', ylabel='Count'>"
      ]
     },
     "execution_count": 12,
     "metadata": {},
     "output_type": "execute_result"
    },
    {
     "data": {
      "image/png": "[encoded data removed]",
      "text/plain": [
       "<Figure size 640x480 with 1 Axes>"
      ]
     },
     "metadata": {},
     "output_type": "display_data"
    }
   ],
   "source": [
    "sns.histplot(y_trans,kde=True)"
   ]
  },
  {
   "cell_type": "code",
   "execution_count": 14,
   "id": "4136abcf-1120-4cb1-9475-e4abe70f98bf",
   "metadata": {},
   "outputs": [
    {
     "data": {
      "application/javascript": [
       "\n",
       "        if (window._pyforest_update_imports_cell) { window._pyforest_update_imports_cell('import numpy as np\\nimport pandas as pd\\nimport seaborn as sns\\nimport matplotlib.pyplot as plt'); }\n",
       "    "
      ],
      "text/plain": [
       "<IPython.core.display.Javascript object>"
      ]
     },
     "metadata": {},
     "output_type": "display_data"
    }
   ],
   "source": [
    "scaler=StandardScaler()\n",
    "array=scaler.fit_transform(num_data)\n",
    "num_data_scaled=pd.DataFrame(array,columns=num_data.columns)"
   ]
  },
  {
   "cell_type": "markdown",
   "id": "65aa633c-57b6-473f-8fb0-b5f1826edb9f",
   "metadata": {},
   "source": [
    "# Outliers detection and capping"
   ]
  },
  {
   "cell_type": "code",
   "execution_count": 15,
   "id": "43d58b35-14f4-49a1-9a40-70ac3f83146b",
   "metadata": {},
   "outputs": [
    {
     "data": {
      "text/plain": [
       "<Axes: >"
      ]
     },
     "execution_count": 15,
     "metadata": {},
     "output_type": "execute_result"
    },
    {
     "data": {
      "image/png": "[encoded data removed]",
      "text/plain": [
       "<Figure size 2000x700 with 1 Axes>"
      ]
     },
     "metadata": {},
     "output_type": "display_data"
    }
   ],
   "source": [
    "num_data_scaled.plot(kind='box',figsize=(20,7))"
   ]
  },
  {
   "cell_type": "code",
   "execution_count": 16,
   "id": "2bc2ae9a-54ff-431e-bbe8-7f0337bc1b67",
   "metadata": {},
   "outputs": [
    {
     "data": {
      "application/javascript": [
       "\n",
       "        if (window._pyforest_update_imports_cell) { window._pyforest_update_imports_cell('import numpy as np\\nimport pandas as pd\\nimport seaborn as sns\\nimport matplotlib.pyplot as plt'); }\n",
       "    "
      ],
      "text/plain": [
       "<IPython.core.display.Javascript object>"
      ]
     },
     "metadata": {},
     "output_type": "display_data"
    },
    {
     "data": {
      "application/javascript": [
       "\n",
       "        if (window._pyforest_update_imports_cell) { window._pyforest_update_imports_cell('import numpy as np\\nimport pandas as pd\\nimport seaborn as sns\\nimport matplotlib.pyplot as plt'); }\n",
       "    "
      ],
      "text/plain": [
       "<IPython.core.display.Javascript object>"
      ]
     },
     "metadata": {},
     "output_type": "display_data"
    },
    {
     "data": {
      "application/javascript": [
       "\n",
       "        if (window._pyforest_update_imports_cell) { window._pyforest_update_imports_cell('import numpy as np\\nimport pandas as pd\\nimport seaborn as sns\\nimport matplotlib.pyplot as plt'); }\n",
       "    "
      ],
      "text/plain": [
       "<IPython.core.display.Javascript object>"
      ]
     },
     "metadata": {},
     "output_type": "display_data"
    },
    {
     "data": {
      "application/javascript": [
       "\n",
       "        if (window._pyforest_update_imports_cell) { window._pyforest_update_imports_cell('import numpy as np\\nimport pandas as pd\\nimport seaborn as sns\\nimport matplotlib.pyplot as plt'); }\n",
       "    "
      ],
      "text/plain": [
       "<IPython.core.display.Javascript object>"
      ]
     },
     "metadata": {},
     "output_type": "display_data"
    },
    {
     "data": {
      "application/javascript": [
       "\n",
       "        if (window._pyforest_update_imports_cell) { window._pyforest_update_imports_cell('import numpy as np\\nimport pandas as pd\\nimport seaborn as sns\\nimport matplotlib.pyplot as plt'); }\n",
       "    "
      ],
      "text/plain": [
       "<IPython.core.display.Javascript object>"
      ]
     },
     "metadata": {},
     "output_type": "display_data"
    },
    {
     "data": {
      "application/javascript": [
       "\n",
       "        if (window._pyforest_update_imports_cell) { window._pyforest_update_imports_cell('import numpy as np\\nimport pandas as pd\\nimport seaborn as sns\\nimport matplotlib.pyplot as plt'); }\n",
       "    "
      ],
      "text/plain": [
       "<IPython.core.display.Javascript object>"
      ]
     },
     "metadata": {},
     "output_type": "display_data"
    }
   ],
   "source": [
    "def outlier_capping(x,upper_limit,lower_limit):\n",
    "    if x>upper_limit:\n",
    "        return upper_limit\n",
    "    elif x<lower_limit:\n",
    "        return lower_limit\n",
    "    else:\n",
    "        return x\n",
    "\n",
    "\n",
    "\n",
    "for col in num_data_scaled.columns:\n",
    "    q1=np.quantile(num_data_scaled[col],0.25)\n",
    "    q3=np.quantile(num_data_scaled[col],0.75)\n",
    "    \n",
    "    IQR=q3-q1\n",
    "\n",
    "    upper_limit=q3+1.5*IQR\n",
    "    lower_limit=q1-1.5*IQR\n",
    "\n",
    "    num_data_scaled[col]=num_data_scaled[col].apply(lambda x:outlier_capping(x,upper_limit,lower_limit))"
   ]
  },
  {
   "cell_type": "code",
   "execution_count": 17,
   "id": "0cf9e4b6-64ed-4de5-bf67-5c7c62052089",
   "metadata": {},
   "outputs": [
    {
     "data": {
      "text/plain": [
       "<Axes: >"
      ]
     },
     "execution_count": 17,
     "metadata": {},
     "output_type": "execute_result"
    },
    {
     "data": {
      "image/png": "[encoded data removed]",
      "text/plain": [
       "<Figure size 2000x700 with 1 Axes>"
      ]
     },
     "metadata": {},
     "output_type": "display_data"
    }
   ],
   "source": [
    "num_data_scaled.plot(kind='box',figsize=(20,7))"
   ]
  },
  {
   "cell_type": "markdown",
   "id": "4bef45c1-3767-4ee3-ba9d-ca665b2b85fc",
   "metadata": {},
   "source": [
    "# Categorical data encoding"
   ]
  },
  {
   "cell_type": "code",
   "execution_count": 18,
   "id": "939fca5c-9037-4fdb-8cd0-47e3adf537d5",
   "metadata": {},
   "outputs": [
    {
     "data": {
      "text/html": [
       "<div>\n",
       "<style scoped>\n",
       "    .dataframe tbody tr th:only-of-type {\n",
       "        vertical-align: middle;\n",
       "    }\n",
       "\n",
       "    .dataframe tbody tr th {\n",
       "        vertical-align: top;\n",
       "    }\n",
       "\n",
       "    .dataframe thead th {\n",
       "        text-align: right;\n",
       "    }\n",
       "</style>\n",
       "<table border=\"1\" class=\"dataframe\">\n",
       "  <thead>\n",
       "    <tr style=\"text-align: right;\">\n",
       "      <th></th>\n",
       "      <th>sex</th>\n",
       "      <th>smoker</th>\n",
       "      <th>region</th>\n",
       "    </tr>\n",
       "  </thead>\n",
       "  <tbody>\n",
       "    <tr>\n",
       "      <th>0</th>\n",
       "      <td>female</td>\n",
       "      <td>yes</td>\n",
       "      <td>southwest</td>\n",
       "    </tr>\n",
       "    <tr>\n",
       "      <th>1</th>\n",
       "      <td>male</td>\n",
       "      <td>no</td>\n",
       "      <td>southeast</td>\n",
       "    </tr>\n",
       "    <tr>\n",
       "      <th>2</th>\n",
       "      <td>male</td>\n",
       "      <td>no</td>\n",
       "      <td>southeast</td>\n",
       "    </tr>\n",
       "    <tr>\n",
       "      <th>3</th>\n",
       "      <td>male</td>\n",
       "      <td>no</td>\n",
       "      <td>northwest</td>\n",
       "    </tr>\n",
       "    <tr>\n",
       "      <th>4</th>\n",
       "      <td>male</td>\n",
       "      <td>no</td>\n",
       "      <td>northwest</td>\n",
       "    </tr>\n",
       "    <tr>\n",
       "      <th>...</th>\n",
       "      <td>...</td>\n",
       "      <td>...</td>\n",
       "      <td>...</td>\n",
       "    </tr>\n",
       "    <tr>\n",
       "      <th>1333</th>\n",
       "      <td>male</td>\n",
       "      <td>no</td>\n",
       "      <td>northwest</td>\n",
       "    </tr>\n",
       "    <tr>\n",
       "      <th>1334</th>\n",
       "      <td>female</td>\n",
       "      <td>no</td>\n",
       "      <td>northeast</td>\n",
       "    </tr>\n",
       "    <tr>\n",
       "      <th>1335</th>\n",
       "      <td>female</td>\n",
       "      <td>no</td>\n",
       "      <td>southeast</td>\n",
       "    </tr>\n",
       "    <tr>\n",
       "      <th>1336</th>\n",
       "      <td>female</td>\n",
       "      <td>no</td>\n",
       "      <td>southwest</td>\n",
       "    </tr>\n",
       "    <tr>\n",
       "      <th>1337</th>\n",
       "      <td>female</td>\n",
       "      <td>yes</td>\n",
       "      <td>northwest</td>\n",
       "    </tr>\n",
       "  </tbody>\n",
       "</table>\n",
       "<p>1337 rows × 3 columns</p>\n",
       "</div>"
      ],
      "text/plain": [
       "         sex smoker     region\n",
       "0     female    yes  southwest\n",
       "1       male     no  southeast\n",
       "2       male     no  southeast\n",
       "3       male     no  northwest\n",
       "4       male     no  northwest\n",
       "...      ...    ...        ...\n",
       "1333    male     no  northwest\n",
       "1334  female     no  northeast\n",
       "1335  female     no  southeast\n",
       "1336  female     no  southwest\n",
       "1337  female    yes  northwest\n",
       "\n",
       "[1337 rows x 3 columns]"
      ]
     },
     "execution_count": 18,
     "metadata": {},
     "output_type": "execute_result"
    }
   ],
   "source": [
    "str_data"
   ]
  },
  {
   "cell_type": "code",
   "execution_count": 19,
   "id": "6cfa107b-2295-4b9c-8082-5b5beefb15e9",
   "metadata": {},
   "outputs": [],
   "source": [
    "le_sex = LabelEncoder()\n",
    "le_smoker = LabelEncoder()\n",
    "\n",
    "str_data['sex'] = le_sex.fit_transform(str_data['sex'])\n",
    "str_data['smoker'] = le_smoker.fit_transform(str_data['smoker'])"
   ]
  },
  {
   "cell_type": "code",
   "execution_count": 20,
   "id": "51bcb941-8377-4dac-9a75-0a2d01dd88e2",
   "metadata": {},
   "outputs": [
    {
     "data": {
      "application/javascript": [
       "\n",
       "        if (window._pyforest_update_imports_cell) { window._pyforest_update_imports_cell('import numpy as np\\nimport pandas as pd\\nimport seaborn as sns\\nimport matplotlib.pyplot as plt'); }\n",
       "    "
      ],
      "text/plain": [
       "<IPython.core.display.Javascript object>"
      ]
     },
     "metadata": {},
     "output_type": "display_data"
    }
   ],
   "source": [
    "encoded_data = pd.get_dummies(str_data['region'], drop_first=True).astype(int)\n"
   ]
  },
  {
   "cell_type": "code",
   "execution_count": 21,
   "id": "b1630450-3787-4b81-8722-39d77e259a7f",
   "metadata": {},
   "outputs": [],
   "source": [
    "str_data.drop(['region'],axis=1,inplace=True)"
   ]
  },
  {
   "cell_type": "code",
   "execution_count": 22,
   "id": "aefd4a69-2d33-4636-b563-d6b8925e869c",
   "metadata": {},
   "outputs": [
    {
     "data": {
      "application/javascript": [
       "\n",
       "        if (window._pyforest_update_imports_cell) { window._pyforest_update_imports_cell('import numpy as np\\nimport matplotlib.pyplot as plt\\nimport pandas as pd\\nimport seaborn as sns\\nfrom sklearn.model_selection import train_test_split'); }\n",
       "    "
      ],
      "text/plain": [
       "<IPython.core.display.Javascript object>"
      ]
     },
     "metadata": {},
     "output_type": "display_data"
    }
   ],
   "source": [
    "output=train_test_split(num_data_scaled,str_data,encoded_data,y_trans,test_size=0.25, random_state=40)\n",
    "\n",
    "num_data_scaled_train=output[0]\n",
    "num_data_scaled_test=output[1]\n",
    "\n",
    "str_data_train=output[2]\n",
    "str_data_test=output[3]\n",
    "\n",
    "encoded_data_train=output[4]\n",
    "encoded_data_test=output[5]\n",
    "\n",
    "y_trans_train=output[6]\n",
    "y_trans_test=output[7]\n"
   ]
  },
  {
   "cell_type": "code",
   "execution_count": 23,
   "id": "38f47fb3-9f52-4e8a-9dbb-42b0b61783dc",
   "metadata": {},
   "outputs": [
    {
     "data": {
      "text/html": [
       "<div>\n",
       "<style scoped>\n",
       "    .dataframe tbody tr th:only-of-type {\n",
       "        vertical-align: middle;\n",
       "    }\n",
       "\n",
       "    .dataframe tbody tr th {\n",
       "        vertical-align: top;\n",
       "    }\n",
       "\n",
       "    .dataframe thead th {\n",
       "        text-align: right;\n",
       "    }\n",
       "</style>\n",
       "<table border=\"1\" class=\"dataframe\">\n",
       "  <thead>\n",
       "    <tr style=\"text-align: right;\">\n",
       "      <th></th>\n",
       "      <th>age</th>\n",
       "      <th>bmi</th>\n",
       "      <th>children</th>\n",
       "    </tr>\n",
       "  </thead>\n",
       "  <tbody>\n",
       "    <tr>\n",
       "      <th>age</th>\n",
       "      <td>1.000000</td>\n",
       "      <td>0.116421</td>\n",
       "      <td>0.058137</td>\n",
       "    </tr>\n",
       "    <tr>\n",
       "      <th>bmi</th>\n",
       "      <td>0.116421</td>\n",
       "      <td>1.000000</td>\n",
       "      <td>0.031590</td>\n",
       "    </tr>\n",
       "    <tr>\n",
       "      <th>children</th>\n",
       "      <td>0.058137</td>\n",
       "      <td>0.031590</td>\n",
       "      <td>1.000000</td>\n",
       "    </tr>\n",
       "  </tbody>\n",
       "</table>\n",
       "</div>"
      ],
      "text/plain": [
       "               age       bmi  children\n",
       "age       1.000000  0.116421  0.058137\n",
       "bmi       0.116421  1.000000  0.031590\n",
       "children  0.058137  0.031590  1.000000"
      ]
     },
     "execution_count": 23,
     "metadata": {},
     "output_type": "execute_result"
    }
   ],
   "source": [
    "num_data_scaled_train.corr()"
   ]
  },
  {
   "cell_type": "code",
   "execution_count": 24,
   "id": "7ef9864b-f96d-4e31-b8cc-33b773689136",
   "metadata": {},
   "outputs": [],
   "source": [
    "num_data_scaled_train_copy=num_data_scaled_train.copy()"
   ]
  },
  {
   "cell_type": "code",
   "execution_count": 25,
   "id": "bc3dbc87-3c11-456a-b231-5073caae8a5f",
   "metadata": {},
   "outputs": [
    {
     "name": "stdout",
     "output_type": "stream",
     "text": [
      "r2 score for  age 0.016522686636049833\n",
      "r2 score for  bmi 0.014172094046022488\n",
      "r2 score for  children 0.004004534483862621\n"
     ]
    }
   ],
   "source": [
    "for col in num_data_scaled_train_copy.columns:\n",
    "\n",
    "    model=LinearRegression()\n",
    "\n",
    "    # Features: all columns except the one we’re predicting\n",
    "    X = num_data_scaled_train_copy.drop(col, axis=1)\n",
    "    y = num_data_scaled_train_copy[col]\n",
    "\n",
    "    model.fit(X,y)\n",
    "\n",
    "    pred=model.predict(X)\n",
    "\n",
    "    print(\"r2 score for \",col, r2_score(num_data_scaled_train_copy[col],pred))"
   ]
  },
  {
   "cell_type": "code",
   "execution_count": 26,
   "id": "c4081ca5-254a-47e7-a9a0-a543e4d5eb0f",
   "metadata": {},
   "outputs": [],
   "source": [
    "final_num_features=num_data_scaled_train_copy.columns"
   ]
  },
  {
   "cell_type": "raw",
   "id": "feb1eab8-c824-499f-9e11-036bd34b3bd9",
   "metadata": {},
   "source": [
    "Need clarification Here, why again split of train and  test?"
   ]
  },
  {
   "cell_type": "code",
   "execution_count": 27,
   "id": "acb0ebe6-6a81-45c9-a497-6ae6f3972696",
   "metadata": {},
   "outputs": [],
   "source": [
    "num_data_scaled_train=num_data_scaled_train[final_num_features]\n",
    "num_data_scaled_test=num_data_scaled_test[final_num_features]"
   ]
  },
  {
   "cell_type": "code",
   "execution_count": 28,
   "id": "870c7f98-7b6a-4bfc-9ede-df7d69624faa",
   "metadata": {},
   "outputs": [
    {
     "data": {
      "text/html": [
       "<div>\n",
       "<style scoped>\n",
       "    .dataframe tbody tr th:only-of-type {\n",
       "        vertical-align: middle;\n",
       "    }\n",
       "\n",
       "    .dataframe tbody tr th {\n",
       "        vertical-align: top;\n",
       "    }\n",
       "\n",
       "    .dataframe thead th {\n",
       "        text-align: right;\n",
       "    }\n",
       "</style>\n",
       "<table border=\"1\" class=\"dataframe\">\n",
       "  <thead>\n",
       "    <tr style=\"text-align: right;\">\n",
       "      <th></th>\n",
       "      <th>age</th>\n",
       "      <th>bmi</th>\n",
       "      <th>children</th>\n",
       "    </tr>\n",
       "  </thead>\n",
       "  <tbody>\n",
       "    <tr>\n",
       "      <th>404</th>\n",
       "      <td>-0.585661</td>\n",
       "      <td>-1.683033</td>\n",
       "      <td>-0.909234</td>\n",
       "    </tr>\n",
       "    <tr>\n",
       "      <th>693</th>\n",
       "      <td>-0.870580</td>\n",
       "      <td>0.678324</td>\n",
       "      <td>-0.079442</td>\n",
       "    </tr>\n",
       "    <tr>\n",
       "      <th>436</th>\n",
       "      <td>-1.226729</td>\n",
       "      <td>0.174896</td>\n",
       "      <td>-0.909234</td>\n",
       "    </tr>\n",
       "    <tr>\n",
       "      <th>335</th>\n",
       "      <td>1.764921</td>\n",
       "      <td>0.629129</td>\n",
       "      <td>-0.909234</td>\n",
       "    </tr>\n",
       "    <tr>\n",
       "      <th>754</th>\n",
       "      <td>-0.585661</td>\n",
       "      <td>-0.494975</td>\n",
       "      <td>0.750351</td>\n",
       "    </tr>\n",
       "    <tr>\n",
       "      <th>...</th>\n",
       "      <td>...</td>\n",
       "      <td>...</td>\n",
       "      <td>...</td>\n",
       "    </tr>\n",
       "    <tr>\n",
       "      <th>1330</th>\n",
       "      <td>-1.155499</td>\n",
       "      <td>0.448748</td>\n",
       "      <td>-0.909234</td>\n",
       "    </tr>\n",
       "    <tr>\n",
       "      <th>1016</th>\n",
       "      <td>-0.941810</td>\n",
       "      <td>0.579934</td>\n",
       "      <td>0.750351</td>\n",
       "    </tr>\n",
       "    <tr>\n",
       "      <th>165</th>\n",
       "      <td>0.554015</td>\n",
       "      <td>-0.401505</td>\n",
       "      <td>2.409936</td>\n",
       "    </tr>\n",
       "    <tr>\n",
       "      <th>7</th>\n",
       "      <td>-0.158282</td>\n",
       "      <td>-0.479397</td>\n",
       "      <td>1.580143</td>\n",
       "    </tr>\n",
       "    <tr>\n",
       "      <th>219</th>\n",
       "      <td>-1.084269</td>\n",
       "      <td>-1.222241</td>\n",
       "      <td>-0.909234</td>\n",
       "    </tr>\n",
       "  </tbody>\n",
       "</table>\n",
       "<p>1002 rows × 3 columns</p>\n",
       "</div>"
      ],
      "text/plain": [
       "           age       bmi  children\n",
       "404  -0.585661 -1.683033 -0.909234\n",
       "693  -0.870580  0.678324 -0.079442\n",
       "436  -1.226729  0.174896 -0.909234\n",
       "335   1.764921  0.629129 -0.909234\n",
       "754  -0.585661 -0.494975  0.750351\n",
       "...        ...       ...       ...\n",
       "1330 -1.155499  0.448748 -0.909234\n",
       "1016 -0.941810  0.579934  0.750351\n",
       "165   0.554015 -0.401505  2.409936\n",
       "7    -0.158282 -0.479397  1.580143\n",
       "219  -1.084269 -1.222241 -0.909234\n",
       "\n",
       "[1002 rows x 3 columns]"
      ]
     },
     "execution_count": 28,
     "metadata": {},
     "output_type": "execute_result"
    }
   ],
   "source": [
    "num_data_scaled_train"
   ]
  },
  {
   "cell_type": "code",
   "execution_count": 29,
   "id": "f59e00bf-3de7-4081-b7af-41900529f714",
   "metadata": {},
   "outputs": [
    {
     "data": {
      "application/javascript": [
       "\n",
       "        if (window._pyforest_update_imports_cell) { window._pyforest_update_imports_cell('import numpy as np\\nimport matplotlib.pyplot as plt\\nimport pandas as pd\\nimport seaborn as sns\\nfrom sklearn.model_selection import train_test_split'); }\n",
       "    "
      ],
      "text/plain": [
       "<IPython.core.display.Javascript object>"
      ]
     },
     "metadata": {},
     "output_type": "display_data"
    },
    {
     "data": {
      "application/javascript": [
       "\n",
       "        if (window._pyforest_update_imports_cell) { window._pyforest_update_imports_cell('import numpy as np\\nimport matplotlib.pyplot as plt\\nimport pandas as pd\\nimport seaborn as sns\\nfrom sklearn.model_selection import train_test_split'); }\n",
       "    "
      ],
      "text/plain": [
       "<IPython.core.display.Javascript object>"
      ]
     },
     "metadata": {},
     "output_type": "display_data"
    }
   ],
   "source": [
    "features_combained_train=pd.concat([num_data_scaled_train.reset_index(drop=True),str_data_train.reset_index(drop=True),encoded_data_train.reset_index(drop=True)],axis=1)\n",
    "features_combained_test=pd.concat([num_data_scaled_test.reset_index(drop=True),str_data_test.reset_index(drop=True),encoded_data_test.reset_index(drop=True)],axis=1)"
   ]
  },
  {
   "cell_type": "markdown",
   "id": "24a8cee4-9634-4387-af75-bf35880b09b0",
   "metadata": {},
   "source": [
    "# Final OLS Model"
   ]
  },
  {
   "cell_type": "code",
   "execution_count": 32,
   "id": "75c1b8eb-6d29-4742-be78-6fbd6e4ef57b",
   "metadata": {},
   "outputs": [
    {
     "data": {
      "application/javascript": [
       "\n",
       "        if (window._pyforest_update_imports_cell) { window._pyforest_update_imports_cell('import numpy as np\\nimport statsmodels.api as sm\\nimport matplotlib.pyplot as plt\\nimport pandas as pd\\nimport seaborn as sns\\nfrom sklearn.model_selection import train_test_split'); }\n",
       "    "
      ],
      "text/plain": [
       "<IPython.core.display.Javascript object>"
      ]
     },
     "metadata": {},
     "output_type": "display_data"
    },
    {
     "data": {
      "application/javascript": [
       "\n",
       "        if (window._pyforest_update_imports_cell) { window._pyforest_update_imports_cell('import numpy as np\\nimport statsmodels.api as sm\\nimport matplotlib.pyplot as plt\\nimport pandas as pd\\nimport seaborn as sns\\nfrom sklearn.model_selection import train_test_split'); }\n",
       "    "
      ],
      "text/plain": [
       "<IPython.core.display.Javascript object>"
      ]
     },
     "metadata": {},
     "output_type": "display_data"
    },
    {
     "name": "stdout",
     "output_type": "stream",
     "text": [
      "                            OLS Regression Results                            \n",
      "==============================================================================\n",
      "Dep. Variable:                charges   R-squared:                       0.762\n",
      "Model:                            OLS   Adj. R-squared:                  0.760\n",
      "Method:                 Least Squares   F-statistic:                     397.4\n",
      "Date:                Tue, 09 Sep 2025   Prob (F-statistic):          2.79e-303\n",
      "Time:                        22:33:46   Log-Likelihood:                -612.65\n",
      "No. Observations:                1002   AIC:                             1243.\n",
      "Df Residuals:                     993   BIC:                             1287.\n",
      "Df Model:                           8                                         \n",
      "Covariance Type:            nonrobust                                         \n",
      "==============================================================================\n",
      "                 coef    std err          t      P>|t|      [0.025      0.975]\n",
      "------------------------------------------------------------------------------\n",
      "const          8.9051      0.033    267.235      0.000       8.840       8.970\n",
      "age            0.4864      0.014     34.006      0.000       0.458       0.514\n",
      "bmi            0.0795      0.015      5.156      0.000       0.049       0.110\n",
      "children       0.1237      0.014      8.709      0.000       0.096       0.152\n",
      "sex           -0.0620      0.028     -2.180      0.029      -0.118      -0.006\n",
      "smoker         1.5138      0.035     43.158      0.000       1.445       1.583\n",
      "northwest     -0.0742      0.041     -1.829      0.068      -0.154       0.005\n",
      "southeast     -0.1409      0.041     -3.412      0.001      -0.222      -0.060\n",
      "southwest     -0.1187      0.041     -2.922      0.004      -0.198      -0.039\n",
      "==============================================================================\n",
      "Omnibus:                      364.261   Durbin-Watson:                   2.009\n",
      "Prob(Omnibus):                  0.000   Jarque-Bera (JB):             1353.333\n",
      "Skew:                           1.734   Prob(JB):                    1.34e-294\n",
      "Kurtosis:                       7.515   Cond. No.                         5.67\n",
      "==============================================================================\n",
      "\n",
      "Notes:\n",
      "[1] Standard Errors assume that the covariance matrix of the errors is correctly specified.\n"
     ]
    }
   ],
   "source": [
    "y_trans_train = y_trans_train.reset_index(drop=True)\n",
    "features_combined_train_const=sm.add_constant(features_combained_train)\n",
    "model=sm.OLS(y_trans_train,features_combined_train_const).fit()\n",
    "print(model.summary())"
   ]
  },
  {
   "cell_type": "code",
   "execution_count": 33,
   "id": "0a635eb0-a208-4636-bccc-47ea352dfa8d",
   "metadata": {},
   "outputs": [
    {
     "data": {
      "application/javascript": [
       "\n",
       "        if (window._pyforest_update_imports_cell) { window._pyforest_update_imports_cell('import numpy as np\\nimport statsmodels.api as sm\\nimport matplotlib.pyplot as plt\\nimport pandas as pd\\nimport seaborn as sns\\nfrom sklearn.model_selection import train_test_split'); }\n",
       "    "
      ],
      "text/plain": [
       "<IPython.core.display.Javascript object>"
      ]
     },
     "metadata": {},
     "output_type": "display_data"
    },
    {
     "data": {
      "application/javascript": [
       "\n",
       "        if (window._pyforest_update_imports_cell) { window._pyforest_update_imports_cell('import numpy as np\\nimport statsmodels.api as sm\\nimport matplotlib.pyplot as plt\\nimport pandas as pd\\nimport seaborn as sns\\nfrom sklearn.model_selection import train_test_split'); }\n",
       "    "
      ],
      "text/plain": [
       "<IPython.core.display.Javascript object>"
      ]
     },
     "metadata": {},
     "output_type": "display_data"
    },
    {
     "data": {
      "application/javascript": [
       "\n",
       "        if (window._pyforest_update_imports_cell) { window._pyforest_update_imports_cell('import numpy as np\\nimport statsmodels.api as sm\\nimport matplotlib.pyplot as plt\\nimport pandas as pd\\nimport seaborn as sns\\nfrom sklearn.model_selection import train_test_split'); }\n",
       "    "
      ],
      "text/plain": [
       "<IPython.core.display.Javascript object>"
      ]
     },
     "metadata": {},
     "output_type": "display_data"
    },
    {
     "data": {
      "text/plain": [
       "<function matplotlib.pyplot.show(close=None, block=None)>"
      ]
     },
     "execution_count": 33,
     "metadata": {},
     "output_type": "execute_result"
    },
    {
     "data": {
      "image/png": "[encoded data removed]",
      "text/plain": [
       "<Figure size 700x500 with 1 Axes>"
      ]
     },
     "metadata": {},
     "output_type": "display_data"
    }
   ],
   "source": [
    "plt.figure(figsize=(7,5))\n",
    "plt.scatter(model.predict(),model.resid)\n",
    "plt.show"
   ]
  },
  {
   "cell_type": "code",
   "execution_count": 34,
   "id": "cb48c0f8-de05-498f-9471-cd94c8dce5d0",
   "metadata": {},
   "outputs": [
    {
     "data": {
      "text/plain": [
       "(62.12289612856166, 1.783505948729481e-10)"
      ]
     },
     "execution_count": 34,
     "metadata": {},
     "output_type": "execute_result"
    }
   ],
   "source": [
    "import statsmodels.api as sm\n",
    "import statsmodels.stats.api as sms\n",
    "test = sms.het_breuschpagan(model.resid,features_combined_train_const)[:2]\n",
    "test"
   ]
  },
  {
   "cell_type": "code",
   "execution_count": 35,
   "id": "4e0866b5-6934-4453-9aa0-2e5a165cf568",
   "metadata": {},
   "outputs": [
    {
     "name": "stdout",
     "output_type": "stream",
     "text": [
      "Test R²: 0.7820860640681614\n"
     ]
    }
   ],
   "source": [
    "features_combined_test_const = sm.add_constant(features_combained_test)\n",
    "test_pred = model.predict(features_combined_test_const)\n",
    "\n",
    "# Now lengths match, so r2_score works\n",
    "from sklearn.metrics import r2_score\n",
    "print(\"Test R²:\", r2_score(y_trans_test, test_pred))"
   ]
  },
  {
   "cell_type": "raw",
   "id": "b100e219-2712-40a5-b717-a837434f75f1",
   "metadata": {},
   "source": [
    "In this project, we analyzed the insurance dataset to understand the key factors influencing medical charges. Our final model achieved an R² of ~0.77, which indicates that about 77% of the variation in insurance charges can be explained by the available data.\n",
    "\n",
    "From the data, we identified clear and consistent patterns:\n",
    "\n",
    "Smoker status is the single most important driver — smokers incur significantly higher charges compared to non-smokers.\n",
    "\n",
    "Age has a strong positive relationship with charges, with costs rising steadily as individuals get older.\n",
    "\n",
    "BMI (a proxy for obesity) is also linked to higher costs, especially in combination with smoking.\n",
    "\n",
    "Children and region show smaller but noticeable effects, while sex has minimal impact.\n",
    "\n",
    "These findings imply that insurance charges are not random; they are systematically influenced by demographic and lifestyle factors captured in the dataset. About 23% of the variation remains unexplained, likely due to unrecorded factors such as pre-existing conditions, lifestyle habits, and unexpected medical events."
   ]
  },
  {
   "cell_type": "raw",
   "id": "2c984bea-8536-4824-a705-af1979a73eaa",
   "metadata": {},
   "source": [
    "Charges are largely driven by observable factors in the dataset (77% explained).\n",
    "\n",
    "Lifestyle choices (smoking, obesity) and demographics (age) dominate the cost structure.\n",
    "\n",
    "There is still ~23% “mystery” in the data — probably health conditions, rare events, or other unrecorded variables."
   ]
  },
  {
   "cell_type": "code",
   "execution_count": null,
   "id": "b401bdbc-f7d6-490f-80bf-8ae9595adfe5",
   "metadata": {},
   "outputs": [],
   "source": []
  }
 ],
 "metadata": {
  "kernelspec": {
   "display_name": "Python 3 (ipykernel)",
   "language": "python",
   "name": "python3"
  },
  "language_info": {
   "codemirror_mode": {
    "name": "ipython",
    "version": 3
   },
   "file_extension": ".py",
   "mimetype": "text/x-python",
   "name": "python",
   "nbconvert_exporter": "python",
   "pygments_lexer": "ipython3",
   "version": "3.12.7"
  }
 },
 "nbformat": 4,
 "nbformat_minor": 5
}
